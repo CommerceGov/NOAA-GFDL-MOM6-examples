{
 "cells": [
  {
   "cell_type": "code",
   "execution_count": 1,
   "metadata": {},
   "outputs": [],
   "source": [
    "import numpy as np\n",
    "import xarray as xr"
   ]
  },
  {
   "cell_type": "code",
   "execution_count": 16,
   "metadata": {},
   "outputs": [],
   "source": [
    "layername = 'rho0'\n",
    "units = 'kg m-3'\n",
    "nk = 20\n",
    "lmin = 1034\n",
    "lmax = 1035\n",
    "data = np.linspace(lmin,lmax,nk)\n",
    "layers = xr.DataArray(\n",
    "    data=data,\n",
    "    dims=['z_i'],\n",
    "    coords={'z_i':data},\n",
    "    name='interfaces',\n",
    "    attrs={'units':units}\n",
    ")"
   ]
  },
  {
   "cell_type": "code",
   "execution_count": 17,
   "metadata": {},
   "outputs": [],
   "source": [
    "layers.to_netcdf('common/targetlayers_'+layername+'.nc')"
   ]
  },
  {
   "cell_type": "code",
   "execution_count": null,
   "metadata": {},
   "outputs": [],
   "source": []
  }
 ],
 "metadata": {
  "kernelspec": {
   "display_name": "om4labs",
   "language": "python",
   "name": "python3"
  },
  "language_info": {
   "codemirror_mode": {
    "name": "ipython",
    "version": 3
   },
   "file_extension": ".py",
   "mimetype": "text/x-python",
   "name": "python",
   "nbconvert_exporter": "python",
   "pygments_lexer": "ipython3",
   "version": "3.8.12"
  },
  "orig_nbformat": 4
 },
 "nbformat": 4,
 "nbformat_minor": 2
}
